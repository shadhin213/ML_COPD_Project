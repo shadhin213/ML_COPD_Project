{
  "cells": [
    {
      "cell_type": "code",
      "execution_count": 4,
      "metadata": {
        "colab": {
          "base_uri": "https://localhost:8080/"
        },
        "id": "vKDX4QwZStXG",
        "outputId": "7ba8a3d9-cece-462b-f5e9-a2b9547f842d"
      },
      "outputs": [
        {
          "data": {
            "text/plain": [
              "\"\\nfrom google.colab import drive\\ndrive.mount('/content/drive')\\n\""
            ]
          },
          "execution_count": 4,
          "metadata": {},
          "output_type": "execute_result"
        }
      ],
      "source": [
        "'''\n",
        "from google.colab import drive\n",
        "drive.mount('/content/drive')\n",
        "'''"
      ]
    },
    {
      "cell_type": "code",
      "execution_count": 5,
      "metadata": {
        "colab": {
          "base_uri": "https://localhost:8080/",
          "height": 206
        },
        "id": "tP0N92LhUO7T",
        "outputId": "e6db68f5-38dd-4bc6-9550-3c4d5a369154"
      },
      "outputs": [
        {
          "data": {
            "text/html": [
              "<div>\n",
              "<style scoped>\n",
              "    .dataframe tbody tr th:only-of-type {\n",
              "        vertical-align: middle;\n",
              "    }\n",
              "\n",
              "    .dataframe tbody tr th {\n",
              "        vertical-align: top;\n",
              "    }\n",
              "\n",
              "    .dataframe thead th {\n",
              "        text-align: right;\n",
              "    }\n",
              "</style>\n",
              "<table border=\"1\" class=\"dataframe\">\n",
              "  <thead>\n",
              "    <tr style=\"text-align: right;\">\n",
              "      <th></th>\n",
              "      <th>uid</th>\n",
              "      <th>label</th>\n",
              "      <th>sex</th>\n",
              "      <th>age</th>\n",
              "      <th>bmi</th>\n",
              "      <th>smoke</th>\n",
              "      <th>location</th>\n",
              "      <th>rs10007052</th>\n",
              "      <th>rs8192288</th>\n",
              "      <th>rs20541</th>\n",
              "      <th>rs12922394</th>\n",
              "      <th>rs2910164</th>\n",
              "      <th>rs161976</th>\n",
              "      <th>rs473892</th>\n",
              "      <th>rs159497</th>\n",
              "      <th>rs9296092</th>\n",
              "      <th>class</th>\n",
              "    </tr>\n",
              "  </thead>\n",
              "  <tbody>\n",
              "    <tr>\n",
              "      <th>0</th>\n",
              "      <td>copdcontrol1</td>\n",
              "      <td>0</td>\n",
              "      <td>2</td>\n",
              "      <td>28</td>\n",
              "      <td>19.22</td>\n",
              "      <td>0</td>\n",
              "      <td>4.63</td>\n",
              "      <td>1.671</td>\n",
              "      <td>1.0</td>\n",
              "      <td>0.448632</td>\n",
              "      <td>0.42328</td>\n",
              "      <td>1.000</td>\n",
              "      <td>1.0</td>\n",
              "      <td>1.473</td>\n",
              "      <td>1.000000</td>\n",
              "      <td>1.0</td>\n",
              "      <td>train</td>\n",
              "    </tr>\n",
              "    <tr>\n",
              "      <th>1</th>\n",
              "      <td>copdcontrol69</td>\n",
              "      <td>0</td>\n",
              "      <td>1</td>\n",
              "      <td>53</td>\n",
              "      <td>20.44</td>\n",
              "      <td>0</td>\n",
              "      <td>4.63</td>\n",
              "      <td>1.671</td>\n",
              "      <td>1.0</td>\n",
              "      <td>1.000000</td>\n",
              "      <td>0.65060</td>\n",
              "      <td>1.416</td>\n",
              "      <td>1.0</td>\n",
              "      <td>1.000</td>\n",
              "      <td>1.000000</td>\n",
              "      <td>1.0</td>\n",
              "      <td>train</td>\n",
              "    </tr>\n",
              "    <tr>\n",
              "      <th>2</th>\n",
              "      <td>copdcontrol68</td>\n",
              "      <td>0</td>\n",
              "      <td>1</td>\n",
              "      <td>58</td>\n",
              "      <td>20.45</td>\n",
              "      <td>1</td>\n",
              "      <td>4.63</td>\n",
              "      <td>1.000</td>\n",
              "      <td>1.0</td>\n",
              "      <td>0.669800</td>\n",
              "      <td>1.00000</td>\n",
              "      <td>1.416</td>\n",
              "      <td>1.0</td>\n",
              "      <td>1.473</td>\n",
              "      <td>1.000000</td>\n",
              "      <td>1.0</td>\n",
              "      <td>train</td>\n",
              "    </tr>\n",
              "    <tr>\n",
              "      <th>3</th>\n",
              "      <td>copdcontrol85</td>\n",
              "      <td>0</td>\n",
              "      <td>2</td>\n",
              "      <td>30</td>\n",
              "      <td>20.70</td>\n",
              "      <td>0</td>\n",
              "      <td>4.63</td>\n",
              "      <td>1.671</td>\n",
              "      <td>1.0</td>\n",
              "      <td>0.448632</td>\n",
              "      <td>1.00000</td>\n",
              "      <td>1.416</td>\n",
              "      <td>NaN</td>\n",
              "      <td>1.473</td>\n",
              "      <td>1.000000</td>\n",
              "      <td>1.0</td>\n",
              "      <td>train</td>\n",
              "    </tr>\n",
              "    <tr>\n",
              "      <th>4</th>\n",
              "      <td>copdcontrol78</td>\n",
              "      <td>0</td>\n",
              "      <td>1</td>\n",
              "      <td>55</td>\n",
              "      <td>20.76</td>\n",
              "      <td>1</td>\n",
              "      <td>4.63</td>\n",
              "      <td>1.671</td>\n",
              "      <td>1.0</td>\n",
              "      <td>0.669800</td>\n",
              "      <td>0.65060</td>\n",
              "      <td>1.000</td>\n",
              "      <td>1.0</td>\n",
              "      <td>1.473</td>\n",
              "      <td>2.088025</td>\n",
              "      <td>1.0</td>\n",
              "      <td>train</td>\n",
              "    </tr>\n",
              "  </tbody>\n",
              "</table>\n",
              "</div>"
            ],
            "text/plain": [
              "             uid  label  sex  age    bmi  smoke  location  rs10007052  \\\n",
              "0   copdcontrol1      0    2   28  19.22      0      4.63       1.671   \n",
              "1  copdcontrol69      0    1   53  20.44      0      4.63       1.671   \n",
              "2  copdcontrol68      0    1   58  20.45      1      4.63       1.000   \n",
              "3  copdcontrol85      0    2   30  20.70      0      4.63       1.671   \n",
              "4  copdcontrol78      0    1   55  20.76      1      4.63       1.671   \n",
              "\n",
              "   rs8192288   rs20541  rs12922394  rs2910164  rs161976  rs473892  rs159497  \\\n",
              "0        1.0  0.448632     0.42328      1.000       1.0     1.473  1.000000   \n",
              "1        1.0  1.000000     0.65060      1.416       1.0     1.000  1.000000   \n",
              "2        1.0  0.669800     1.00000      1.416       1.0     1.473  1.000000   \n",
              "3        1.0  0.448632     1.00000      1.416       NaN     1.473  1.000000   \n",
              "4        1.0  0.669800     0.65060      1.000       1.0     1.473  2.088025   \n",
              "\n",
              "   rs9296092  class  \n",
              "0        1.0  train  \n",
              "1        1.0  train  \n",
              "2        1.0  train  \n",
              "3        1.0  train  \n",
              "4        1.0  train  "
            ]
          },
          "execution_count": 5,
          "metadata": {},
          "output_type": "execute_result"
        }
      ],
      "source": [
        "import pandas as pd\n",
        "\n",
        "file_path = r'G:\\Project\\ML\\ML_COPD_Project\\dataset\\finalalldata (1).csv'\n",
        "df = pd.read_csv(file_path)\n",
        "\n",
        "df.head()\n",
        "\n"
      ]
    },
    {
      "cell_type": "markdown",
      "metadata": {
        "id": "WHVJlZ3yWEbL"
      },
      "source": [
        "However, Now I can easily drop unnecessary columns like **uid** and **class** in  this simple code:"
      ]
    },
    {
      "cell_type": "code",
      "execution_count": 6,
      "metadata": {
        "colab": {
          "base_uri": "https://localhost:8080/"
        },
        "id": "J12E33H4WEGz",
        "outputId": "31b4a001-dcd8-47df-be75-9857a6d129ce"
      },
      "outputs": [
        {
          "data": {
            "text/plain": [
              "(['uid',\n",
              "  'label',\n",
              "  'sex',\n",
              "  'age',\n",
              "  'bmi',\n",
              "  'smoke',\n",
              "  'location',\n",
              "  'rs10007052',\n",
              "  'rs8192288',\n",
              "  'rs20541',\n",
              "  'rs12922394',\n",
              "  'rs2910164',\n",
              "  'rs161976',\n",
              "  'rs473892',\n",
              "  'rs159497',\n",
              "  'rs9296092',\n",
              "  'class'],\n",
              " ['label',\n",
              "  'sex',\n",
              "  'age',\n",
              "  'bmi',\n",
              "  'smoke',\n",
              "  'location',\n",
              "  'rs10007052',\n",
              "  'rs8192288',\n",
              "  'rs20541',\n",
              "  'rs12922394',\n",
              "  'rs2910164',\n",
              "  'rs161976',\n",
              "  'rs473892',\n",
              "  'rs159497',\n",
              "  'rs9296092'])"
            ]
          },
          "execution_count": 6,
          "metadata": {},
          "output_type": "execute_result"
        }
      ],
      "source": [
        "# Step 1: Drop Unnecessary Columns\n",
        "\n",
        "# Original columns in the dataset\n",
        "original_columns = df.columns.tolist()\n",
        "\n",
        "# Drop 'uid' and 'class' as they are not needed for modeling\n",
        "df_step1 = df.drop(columns=['uid', 'class'])\n",
        "\n",
        "# Show updated columns\n",
        "updated_columns = df_step1.columns.tolist()\n",
        "\n",
        "original_columns, updated_columns\n"
      ]
    },
    {
      "cell_type": "markdown",
      "metadata": {
        "id": "oL5J-Cr7XnSj"
      },
      "source": [
        "Now i will handale the Missing value"
      ]
    },
    {
      "cell_type": "code",
      "execution_count": 7,
      "metadata": {
        "colab": {
          "base_uri": "https://localhost:8080/"
        },
        "id": "wWfIWFlyfK7h",
        "outputId": "e7447a51-558e-4509-bd7b-2f451b596f53"
      },
      "outputs": [
        {
          "name": "stdout",
          "output_type": "stream",
          "text": [
            "Missing Value Report (Column-wise):\n",
            "            Missing Values  Percentage\n",
            "rs159497                38    6.003160\n",
            "rs161976                35    5.529226\n",
            "rs9296092               13    2.053712\n",
            "rs10007052               9    1.421801\n",
            "rs8192288                5    0.789889\n",
            "rs12922394               5    0.789889\n",
            "rs20541                  4    0.631912\n",
            "rs2910164                4    0.631912\n",
            "\n",
            "✅ Total Missing Value Percentage in Entire Dataset: 1.05%\n"
          ]
        }
      ],
      "source": [
        "# Check how many missing values are in each column\n",
        "missing_summary = df.isnull().sum()\n",
        "\n",
        "# Calculate percentage of missing values per column\n",
        "missing_percentage = (missing_summary / len(df)) * 100\n",
        "\n",
        "# Combine into one table\n",
        "missing_report = pd.DataFrame({\n",
        "    'Missing Values': missing_summary,\n",
        "    'Percentage': missing_percentage\n",
        "})\n",
        "\n",
        "# Filter only columns with missing data\n",
        "missing_report = missing_report[missing_report['Missing Values'] > 0]\n",
        "missing_report = missing_report.sort_values(by='Percentage', ascending=False)\n",
        "\n",
        "# Show the per-column missing value report\n",
        "print(\"Missing Value Report (Column-wise):\")\n",
        "print(missing_report)\n",
        "\n",
        "# ✅ Additional Part: Calculate total percentage of missing values in the entire dataset\n",
        "total_missing = df.isnull().sum().sum()\n",
        "total_values = df.size\n",
        "total_missing_percentage = (total_missing / total_values) * 100\n",
        "\n",
        "print(f\"\\n✅ Total Missing Value Percentage in Entire Dataset: {total_missing_percentage:.2f}%\")\n"
      ]
    },
    {
      "cell_type": "code",
      "execution_count": 8,
      "metadata": {},
      "outputs": [
        {
          "data": {
            "image/png": "[encoded data removed]",
            "text/plain": [
              "<Figure size 640x480 with 1 Axes>"
            ]
          },
          "metadata": {},
          "output_type": "display_data"
        }
      ],
      "source": [
        "import pandas as pd\n",
        "from matplotlib import pyplot as plt\n",
        "\n",
        "# Example DataFrame (replace this with your actual DataFrame)\n",
        "df = pd.DataFrame({\n",
        "    'A': [1, None, 3],\n",
        "    'B': [4, 5, None],\n",
        "    'C': [None, None, 9]\n",
        "})\n",
        "\n",
        "# Create a DataFrame to count missing values\n",
        "_df_0 = pd.DataFrame({\n",
        "    'Missing Values': df.isnull().sum()\n",
        "})\n",
        "\n",
        "# Plotting\n",
        "_df_0['Missing Values'].plot(kind='hist', bins=20, title='Missing Values')\n",
        "plt.gca().spines[['top', 'right']].set_visible(False)\n",
        "plt.xlabel(\"Number of Missing Values\")\n",
        "plt.ylabel(\"Frequency\")\n",
        "plt.show()\n"
      ]
    },
    {
      "cell_type": "code",
      "execution_count": 9,
      "metadata": {
        "colab": {
          "base_uri": "https://localhost:8080/",
          "height": 452
        },
        "id": "P5UBLBdbe7Wb",
        "outputId": "dde9669a-e892-4719-ff2f-14b0bd491157"
      },
      "outputs": [
        {
          "data": {
            "image/png": "[encoded data removed]",
            "text/plain": [
              "<Figure size 640x480 with 1 Axes>"
            ]
          },
          "metadata": {},
          "output_type": "display_data"
        }
      ],
      "source": [
        "from matplotlib import pyplot as plt\n",
        "_df_0['Missing Values'].plot(kind='hist', bins=20, title='Missing Values')\n",
        "plt.gca().spines[['top', 'right',]].set_visible(False)"
      ]
    },
    {
      "cell_type": "code",
      "execution_count": 10,
      "metadata": {
        "colab": {
          "base_uri": "https://localhost:8080/"
        },
        "id": "bc5JQtZQik1Y",
        "outputId": "a7ab4564-fac9-413d-98ad-44a1178d5d74"
      },
      "outputs": [
        {
          "name": "stdout",
          "output_type": "stream",
          "text": [
            "\n",
            "✅ Total missing values after imputation:\n",
            "0\n"
          ]
        }
      ],
      "source": [
        "from sklearn.impute import SimpleImputer\n",
        "import pandas as pd\n",
        "\n",
        "# Separate numeric and non-numeric columns\n",
        "numeric_cols = df.select_dtypes(include=['float64', 'int64']).columns\n",
        "non_numeric_cols = df.select_dtypes(exclude=['float64', 'int64']).columns\n",
        "\n",
        "# Impute only numeric columns\n",
        "imputer = SimpleImputer(strategy='mean')\n",
        "df_numeric_imputed = pd.DataFrame(imputer.fit_transform(df[numeric_cols]), columns=numeric_cols)\n",
        "\n",
        "# Combine back non-numeric columns\n",
        "df_final = pd.concat([df_numeric_imputed, df[non_numeric_cols].reset_index(drop=True)], axis=1)\n",
        "\n",
        "# Confirm no missing values\n",
        "print(\"\\n✅ Total missing values after imputation:\")\n",
        "print(df_final.isnull().sum().sum())  # Should be 0\n"
      ]
    },
    {
      "cell_type": "markdown",
      "metadata": {},
      "source": [
        "Drop duplicates if any"
      ]
    },
    {
      "cell_type": "code",
      "execution_count": 11,
      "metadata": {},
      "outputs": [
        {
          "name": "stdout",
          "output_type": "stream",
          "text": [
            "Number of duplicates before dropping: 0\n",
            "Number of duplicates after dropping: 0\n",
            "\n",
            "Dataset shape:\n",
            "Original shape: (3, 3)\n",
            "Shape after dropping duplicates: (3, 3)\n"
          ]
        }
      ],
      "source": [
        "# Check for duplicates first\n",
        "print(\"Number of duplicates before dropping:\", df_final.duplicated().sum())\n",
        "\n",
        "# Drop duplicates and keep the first occurrence\n",
        "df_final = df_final.drop_duplicates(keep='first')\n",
        "\n",
        "# Verify duplicates were removed\n",
        "print(\"Number of duplicates after dropping:\", df_final.duplicated().sum())\n",
        "\n",
        "# Show the shape of dataset before and after dropping duplicates\n",
        "print(\"\\nDataset shape:\")\n",
        "print(f\"Original shape: {df.shape}\")\n",
        "print(f\"Shape after dropping duplicates: {df_final.shape}\")\n"
      ]
    },
    {
      "cell_type": "markdown",
      "metadata": {},
      "source": [
        " Train-Test Split: Here i used Random-forest model.\n",
        "Divide your dataset into training and testing sets (e.g., 80% train, 20% test)."
      ]
    },
    {
      "cell_type": "code",
      "execution_count": 20,
      "metadata": {},
      "outputs": [
        {
          "name": "stdout",
          "output_type": "stream",
          "text": [
            "Model Performance Metrics:\n",
            "Random Forest Accuracy: 0.8661\n",
            "\n",
            "Training set shape: (506, 14)\n",
            "Testing set shape: (127, 14)\n",
            "\n",
            "Training set distribution:\n",
            "label\n",
            "1.0    0.695652\n",
            "0.0    0.304348\n",
            "Name: proportion, dtype: float64\n",
            "\n",
            "Testing set distribution:\n",
            "label\n",
            "1.0    0.700787\n",
            "0.0    0.299213\n",
            "Name: proportion, dtype: float64\n",
            "\n",
            "Total Average Accuracy across all models: 0.8484\n"
          ]
        }
      ],
      "source": [
        "# Import required libraries\n",
        "import pandas as pd\n",
        "from sklearn.model_selection import train_test_split\n",
        "from sklearn.impute import SimpleImputer\n",
        "from sklearn.metrics import accuracy_score\n",
        "from sklearn.ensemble import RandomForestClassifier\n",
        "\n",
        "# Load the data\n",
        "file_path = r'G:\\Project\\ML\\ML_COPD_Project\\dataset\\finalalldata (1).csv'\n",
        "df = pd.read_csv(file_path)\n",
        "\n",
        "# Step 1: Drop Unnecessary Columns\n",
        "df_step1 = df.drop(columns=['uid', 'class'])\n",
        "\n",
        "# Step 2: Handle Missing Values\n",
        "# Separate numeric and non-numeric columns\n",
        "numeric_cols = df_step1.select_dtypes(include=['float64', 'int64']).columns\n",
        "non_numeric_cols = df_step1.select_dtypes(exclude=['float64', 'int64']).columns\n",
        "\n",
        "# Impute only numeric columns\n",
        "imputer = SimpleImputer(strategy='mean')\n",
        "df_numeric_imputed = pd.DataFrame(imputer.fit_transform(df_step1[numeric_cols]), columns=numeric_cols)\n",
        "\n",
        "# Combine back non-numeric columns\n",
        "df_final = pd.concat([df_numeric_imputed, df_step1[non_numeric_cols].reset_index(drop=True)], axis=1)\n",
        "\n",
        "# Step 3: Prepare for training\n",
        "# Separate features (X) and target variable (y)\n",
        "X = df_final.drop('label', axis=1)  # Drop only the label column\n",
        "y = df_final['label']  # Target variable is 'label'\n",
        "\n",
        "# Split the data into training and testing sets (80-20 split)\n",
        "X_train, X_test, y_train, y_test = train_test_split(X, y, test_size=0.2, random_state=42)\n",
        "\n",
        "# Train the model\n",
        "rf_model = RandomForestClassifier(random_state=42)\n",
        "rf_model.fit(X_train, y_train)\n",
        "\n",
        "# Make predictions\n",
        "y_pred = rf_model.predict(X_test)\n",
        "\n",
        "# Calculate accuracy\n",
        "accuracy = accuracy_score(y_test, y_pred)\n",
        "\n",
        "print(\"Model Performance Metrics:\")\n",
        "print(f\"Random Forest Accuracy: {accuracy:.4f}\")\n",
        "\n",
        "# Print the shapes of training and testing sets\n",
        "print(\"\\nTraining set shape:\", X_train.shape)\n",
        "print(\"Testing set shape:\", X_test.shape)\n",
        "print(\"\\nTraining set distribution:\")\n",
        "print(y_train.value_counts(normalize=True))\n",
        "print(\"\\nTesting set distribution:\")\n",
        "print(y_test.value_counts(normalize=True))\n",
        "\n",
        "# Calculate total accuracy across all models\n",
        "total_accuracy = (accuracy + xgb_accuracy + svm_accuracy + lr_accuracy) / 4\n",
        "print(\"\\nTotal Average Accuracy across all models:\", f\"{total_accuracy:.4f}\")"
      ]
    },
    {
      "cell_type": "markdown",
      "metadata": {},
      "source": [
        " Train-Test Split: Here i used XGboost , SVM,LogisticRegression ,model.\n",
        "Divide your dataset into training and testing sets (e.g., 80% train, 20% test)."
      ]
    },
    {
      "cell_type": "code",
      "execution_count": 19,
      "metadata": {},
      "outputs": [
        {
          "name": "stdout",
          "output_type": "stream",
          "text": [
            "Model Performance Comparison:\n",
            "\n",
            "XGBoost Accuracy: 0.889763779527559\n",
            "\n",
            "SVM Accuracy: 0.7795275590551181\n",
            "\n",
            "Logistic Regression Accuracy: 0.8582677165354331\n"
          ]
        },
        {
          "name": "stderr",
          "output_type": "stream",
          "text": [
            "g:\\Project\\ML\\ML_COPD_Project\\.venv\\Lib\\site-packages\\sklearn\\linear_model\\_logistic.py:465: ConvergenceWarning: lbfgs failed to converge (status=1):\n",
            "STOP: TOTAL NO. OF ITERATIONS REACHED LIMIT.\n",
            "\n",
            "Increase the number of iterations (max_iter) or scale the data as shown in:\n",
            "    https://scikit-learn.org/stable/modules/preprocessing.html\n",
            "Please also refer to the documentation for alternative solver options:\n",
            "    https://scikit-learn.org/stable/modules/linear_model.html#logistic-regression\n",
            "  n_iter_i = _check_optimize_result(\n"
          ]
        }
      ],
      "source": [
        "# Import necessary libraries\n",
        "from xgboost import XGBClassifier\n",
        "from sklearn.svm import SVC\n",
        "from sklearn.linear_model import LogisticRegression\n",
        "from sklearn.metrics import accuracy_score, classification_report, confusion_matrix\n",
        "import numpy as np\n",
        "\n",
        "# 1. XGBoost\n",
        "xgb_model = XGBClassifier(random_state=42)\n",
        "xgb_model.fit(X_train, y_train)\n",
        "xgb_pred = xgb_model.predict(X_test)\n",
        "xgb_accuracy = accuracy_score(y_test, xgb_pred)\n",
        "\n",
        "# 2. SVM\n",
        "svm_model = SVC(probability=True, random_state=42)\n",
        "svm_model.fit(X_train, y_train)\n",
        "svm_pred = svm_model.predict(X_test)\n",
        "svm_accuracy = accuracy_score(y_test, svm_pred)\n",
        "\n",
        "# 3. Logistic Regression\n",
        "lr_model = LogisticRegression(random_state=42)\n",
        "lr_model.fit(X_train, y_train)\n",
        "lr_pred = lr_model.predict(X_test)\n",
        "lr_accuracy = accuracy_score(y_test, lr_pred)\n",
        "\n",
        "# Print results\n",
        "print(\"Model Performance Comparison:\")\n",
        "print(\"\\nXGBoost Accuracy:\", xgb_accuracy)\n",
        "print(\"\\nSVM Accuracy:\", svm_accuracy)\n",
        "print(\"\\nLogistic Regression Accuracy:\", lr_accuracy)"
      ]
    }
  ],
  "metadata": {
    "colab": {
      "provenance": []
    },
    "kernelspec": {
      "display_name": ".venv",
      "language": "python",
      "name": "python3"
    },
    "language_info": {
      "codemirror_mode": {
        "name": "ipython",
        "version": 3
      },
      "file_extension": ".py",
      "mimetype": "text/x-python",
      "name": "python",
      "nbconvert_exporter": "python",
      "pygments_lexer": "ipython3",
      "version": "3.13.3"
    }
  },
  "nbformat": 4,
  "nbformat_minor": 0
}
